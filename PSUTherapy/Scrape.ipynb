{
 "cells": [
  {
   "cell_type": "code",
   "execution_count": 17,
   "metadata": {},
   "outputs": [],
   "source": [
    "import requests\n",
    "import pickle\n",
    "import itertools\n",
    "import random"
   ]
  },
  {
   "cell_type": "code",
   "execution_count": 2,
   "metadata": {},
   "outputs": [],
   "source": [
    "def get_list(category):\n",
    "    return requests.get(\"http://bilingualnamingtherapy.psu.edu:9000/BilingualNamingTherapy/WordSelect?lang=English&cat=\"+category).json()"
   ]
  },
  {
   "cell_type": "code",
   "execution_count": 3,
   "metadata": {},
   "outputs": [],
   "source": [
    "def get_features(list):\n",
    "    return requests.post(\"http://bilingualnamingtherapy.psu.edu:9000/BilingualNamingTherapy/TestTaker\",json={'Words':list,'language':'English'}).json()"
   ]
  },
  {
   "cell_type": "code",
   "execution_count": 4,
   "metadata": {},
   "outputs": [],
   "source": [
    "categories=['Animals','Body Parts','Clothing','Foods','Fruit','Furniture','Large Artifacts','People','Small Artifacts','Transportation']"
   ]
  },
  {
   "cell_type": "code",
   "execution_count": 5,
   "metadata": {},
   "outputs": [],
   "source": [
    "words={category:get_list(category) for category in categories}\n",
    "features={category:get_features([words[category]]) for category in categories}"
   ]
  },
  {
   "cell_type": "code",
   "execution_count": 6,
   "metadata": {},
   "outputs": [
    {
     "name": "stdout",
     "output_type": "stream",
     "text": [
      "Animals: 64\n",
      "Body Parts: 26\n",
      "Clothing: 28\n",
      "Foods: 43\n",
      "Fruit: 31\n",
      "Furniture: 37\n",
      "Large Artifacts: 62\n",
      "People: 21\n",
      "Small Artifacts: 145\n",
      "Transportation: 24\n"
     ]
    }
   ],
   "source": [
    "for key in words.keys():\n",
    "    print('{cat}: {length}'.format(cat=key,length=len(words[key])))"
   ]
  },
  {
   "cell_type": "code",
   "execution_count": 7,
   "metadata": {},
   "outputs": [],
   "source": [
    "pickle.dump(words,open('words.p','wb'))\n",
    "pickle.dump(features,open('features.p','wb'))"
   ]
  },
  {
   "cell_type": "code",
   "execution_count": 16,
   "metadata": {},
   "outputs": [
    {
     "ename": "AttributeError",
     "evalue": "'list' object has no attribute 'shuffle'",
     "output_type": "error",
     "traceback": [
      "\u001b[0;31m---------------------------------------------------------------------------\u001b[0m",
      "\u001b[0;31mAttributeError\u001b[0m                            Traceback (most recent call last)",
      "\u001b[0;32m<ipython-input-16-c73fc488df13>\u001b[0m in \u001b[0;36m<module>\u001b[0;34m\u001b[0m\n\u001b[1;32m      1\u001b[0m \u001b[0mjsonlist\u001b[0m \u001b[0;34m=\u001b[0m \u001b[0;34m[\u001b[0m\u001b[0;34m'{{\"source\": \"{word}\"}}\\n'\u001b[0m\u001b[0;34m.\u001b[0m\u001b[0mformat\u001b[0m\u001b[0;34m(\u001b[0m\u001b[0mword\u001b[0m\u001b[0;34m=\u001b[0m\u001b[0mword\u001b[0m\u001b[0;34m)\u001b[0m \u001b[0;32mfor\u001b[0m \u001b[0mkey\u001b[0m \u001b[0;32min\u001b[0m \u001b[0mcategories\u001b[0m \u001b[0;32mfor\u001b[0m \u001b[0mword\u001b[0m \u001b[0;32min\u001b[0m \u001b[0mwords\u001b[0m\u001b[0;34m[\u001b[0m\u001b[0mkey\u001b[0m\u001b[0;34m]\u001b[0m\u001b[0;34m]\u001b[0m\u001b[0;34m\u001b[0m\u001b[0m\n\u001b[0;32m----> 2\u001b[0;31m \u001b[0mjsonlist\u001b[0m\u001b[0;34m.\u001b[0m\u001b[0mshuffle\u001b[0m\u001b[0;34m(\u001b[0m\u001b[0;34m)\u001b[0m\u001b[0;34m\u001b[0m\u001b[0m\n\u001b[0m",
      "\u001b[0;31mAttributeError\u001b[0m: 'list' object has no attribute 'shuffle'"
     ]
    }
   ],
   "source": [
    "jsonlist = ['{{\"source\": \"{word}\"}}\\n'.format(word=word) for key in categories for word in words[key]]\n",
    "jsonlist.shuffle()"
   ]
  },
  {
   "cell_type": "code",
   "execution_count": 9,
   "metadata": {},
   "outputs": [],
   "source": [
    "with open('allwords.json','w') as fp:\n",
    "    fp.write(\"\".join(jsonlist))"
   ]
  },
  {
   "cell_type": "code",
   "execution_count": 15,
   "metadata": {},
   "outputs": [
    {
     "data": {
      "text/plain": [
       "'{\"source\": \"alligator\"}\\n{\"source\": \"ant\"}\\n{\"source\": \"bat\"}\\n{\"source\": \"bear\"}\\n{\"source\": \"beaver\"}\\n{\"source\": \"bee\"}\\n{\"source\": \"bird\"}\\n{\"source\": \"bug\"}\\n{\"source\": \"butterfly\"}\\n{\"source\": \"camel\"}\\n{\"source\": \"cat\"}\\n{\"source\": \"cow\"}\\n{\"source\": \"crab\"}\\n{\"source\": \"deer\"}\\n{\"source\": \"dinosaur\"}\\n{\"source\": \"dog\"}\\n{\"source\": \"dolphin\"}\\n{\"source\": \"donkey\"}\\n{\"source\": \"elephant\"}\\n{\"source\": \"fish\"}\\n{\"source\": \"fly\"}\\n{\"source\": \"fox\"}\\n{\"source\": \"frog\"}\\n{\"source\": \"giraffe\"}\\n{\"source\": \"goat\"}\\n{\"source\": \"gorilla\"}\\n{\"source\": \"grasshopper\"}\\n{\"source\": \"hippopotamus\"}\\n{\"source\": \"horse\"}\\n{\"source\": \"kangaroo\"}\\n{\"source\": \"ladybug\"}\\n{\"source\": \"leopard\"}\\n{\"source\": \"lion\"}\\n{\"source\": \"lizard\"}\\n{\"source\": \"llama\"}\\n{\"source\": \"lobster\"}\\n{\"source\": \"monkey\"}\\n{\"source\": \"moose\"}\\n{\"source\": \"mosquito\"}\\n{\"source\": \"mouse\"}\\n{\"source\": \"octopus\"}\\n{\"source\": \"panda\"}\\n{\"source\": \"pig\"}\\n{\"source\": \"porcupine\"}\\n{\"source\": \"rabbit\"}\\n{\"source\": \"raccoon\"}\\n{\"source\": \"rhinoceros\"}\\n{\"source\": \"scorpion\"}\\n{\"source\": \"seahorse\"}\\n{\"source\": \"seal\"}\\n{\"source\": \"shark\"}\\n{\"source\": \"sheep\"}\\n{\"source\": \"skunk\"}\\n{\"source\": \"snail\"}\\n{\"source\": \"snake\"}\\n{\"source\": \"spider\"}\\n{\"source\": \"squirrel\"}\\n{\"source\": \"tiger\"}\\n{\"source\": \"turtle\"}\\n{\"source\": \"walrus\"}\\n{\"source\": \"whale\"}\\n{\"source\": \"wolf\"}\\n{\"source\": \"worm\"}\\n{\"source\": \"zebra\"}\\n{\"source\": \"antlers\"}\\n{\"source\": \"arm\"}\\n{\"source\": \"beard\"}\\n{\"source\": \"bone\"}\\n{\"source\": \"chest\"}\\n{\"source\": \"ear\"}\\n{\"source\": \"eye\"}\\n{\"source\": \"feather\"}\\n{\"source\": \"finger\"}\\n{\"source\": \"foot\"}\\n{\"source\": \"hair\"}\\n{\"source\": \"hand\"}\\n{\"source\": \"hoof\"}\\n{\"source\": \"leg\"}\\n{\"source\": \"lips\"}\\n{\"source\": \"neck\"}\\n{\"source\": \"nose\"}\\n{\"source\": \"paw\"}\\n{\"source\": \"shell\"}\\n{\"source\": \"shoulder\"}\\n{\"source\": \"skeleton\"}\\n{\"source\": \"tail\"}\\n{\"source\": \"teeth\"}\\n{\"source\": \"thumb\"}\\n{\"source\": \"toe\"}\\n{\"source\": \"wing\"}\\n{\"source\": \"apron\"}\\n{\"source\": \"bandana\"}\\n{\"source\": \"blouse\"}\\n{\"source\": \"cape\"}\\n{\"source\": \"cummerbund\"}\\n{\"source\": \"earmuffs\"}\\n{\"source\": \"hood\"}\\n{\"source\": \"jeans\"}\\n{\"source\": \"khakis\"}\\n{\"source\": \"leotard\"}\\n{\"source\": \"nightgown\"}\\n{\"source\": \"overalls\"}\\n{\"source\": \"pajamas\"}\\n{\"source\": \"pantyhose\"}\\n{\"source\": \"raincoat\"}\\n{\"source\": \"robe\"}\\n{\"source\": \"shorts\"}\\n{\"source\": \"ski mask\"}\\n{\"source\": \"slipper\"}\\n{\"source\": \"suit\"}\\n{\"source\": \"suspenders\"}\\n{\"source\": \"sweatsuit\"}\\n{\"source\": \"swimsuit\"}\\n{\"source\": \"turban\"}\\n{\"source\": \"tuxedo\"}\\n{\"source\": \"underpants\"}\\n{\"source\": \"uniform\"}\\n{\"source\": \"veil\"}\\n{\"source\": \"acorns\"}\\n{\"source\": \"apple\"}\\n{\"source\": \"artichoke\"}\\n{\"source\": \"asparagus\"}\\n{\"source\": \"banana\"}\\n{\"source\": \"bread\"}\\n{\"source\": \"butter\"}\\n{\"source\": \"cake\"}\\n{\"source\": \"carrot\"}\\n{\"source\": \"celery\"}\\n{\"source\": \"cheese\"}\\n{\"source\": \"cherry\"}\\n{\"source\": \"cookie\"}\\n{\"source\": \"corn\"}\\n{\"source\": \"crackers\"}\\n{\"source\": \"egg\"}\\n{\"source\": \"grapes\"}\\n{\"source\": \"lemon\"}\\n{\"source\": \"lettuce\"}\\n{\"source\": \"mushroom\"}\\n{\"source\": \"nut\"}\\n{\"source\": \"onion\"}\\n{\"source\": \"orange\"}\\n{\"source\": \"peach\"}\\n{\"source\": \"peanut\"}\\n{\"source\": \"pear\"}\\n{\"source\": \"peas\"}\\n{\"source\": \"pineapple\"}\\n{\"source\": \"pinecone\"}\\n{\"source\": \"pizza\"}\\n{\"source\": \"popcorn\"}\\n{\"source\": \"potato\"}\\n{\"source\": \"radish\"}\\n{\"source\": \"salt\"}\\n{\"source\": \"sandwich\"}\\n{\"source\": \"spaghetti\"}\\n{\"source\": \"strawberry\"}\\n{\"source\": \"tomato\"}\\n{\"source\": \"waffle\"}\\n{\"source\": \"walnut\"}\\n{\"source\": \"watermelon\"}\\n{\"source\": \"wheat\"}\\n{\"source\": \"wine\"}\\n{\"source\": \"acai\"}\\n{\"source\": \"apricot\"}\\n{\"source\": \"blackberry\"}\\n{\"source\": \"blueberry\"}\\n{\"source\": \"boysenberry\"}\\n{\"source\": \"clementine\"}\\n{\"source\": \"coconut\"}\\n{\"source\": \"crabapple\"}\\n{\"source\": \"cranberry\"}\\n{\"source\": \"currant\"}\\n{\"source\": \"date\"}\\n{\"source\": \"fig\"}\\n{\"source\": \"grapefruit\"}\\n{\"source\": \"guava\"}\\n{\"source\": \"huckleberry\"}\\n{\"source\": \"kiwi\"}\\n{\"source\": \"kumquat\"}\\n{\"source\": \"lime\"}\\n{\"source\": \"lychee\"}\\n{\"source\": \"mango\"}\\n{\"source\": \"nectarine\"}\\n{\"source\": \"papaya\"}\\n{\"source\": \"passionfruit\"}\\n{\"source\": \"plantain\"}\\n{\"source\": \"plum\"}\\n{\"source\": \"pomegranate\"}\\n{\"source\": \"pomelo\"}\\n{\"source\": \"prune\"}\\n{\"source\": \"raisin\"}\\n{\"source\": \"star fruit\"}\\n{\"source\": \"vanilla\"}\\n{\"source\": \"bed\"}\\n{\"source\": \"blinds\"}\\n{\"source\": \"book case\"}\\n{\"source\": \"bureau\"}\\n{\"source\": \"cabinet\"}\\n{\"source\": \"carpet\"}\\n{\"source\": \"chair\"}\\n{\"source\": \"chandelier\"}\\n{\"source\": \"coat rack\"}\\n{\"source\": \"cot\"}\\n{\"source\": \"crib\"}\\n{\"source\": \"desk\"}\\n{\"source\": \"dish washer\"}\\n{\"source\": \"drawer\"}\\n{\"source\": \"dresser\"}\\n{\"source\": \"DVD player\"}\\n{\"source\": \"entertainment center\"}\\n{\"source\": \"foot stool\"}\\n{\"source\": \"furnace\"}\\n{\"source\": \"grandfather clock\"}\\n{\"source\": \"highchair\"}\\n{\"source\": \"hutch\"}\\n{\"source\": \"ironingboard\"}\\n{\"source\": \"lamp\"}\\n{\"source\": \"love seat\"}\\n{\"source\": \"night stand\"}\\n{\"source\": \"ottoman\"}\\n{\"source\": \"recliner\"}\\n{\"source\": \"rockingchair\"}\\n{\"source\": \"table\"}\\n{\"source\": \"tapestry\"}\\n{\"source\": \"toybox\"}\\n{\"source\": \"trunk\"}\\n{\"source\": \"TV stand\"}\\n{\"source\": \"umbrella stand\"}\\n{\"source\": \"waste basket\"}\\n{\"source\": \"water bed\"}\\n{\"source\": \"anchor\"}\\n{\"source\": \"balcony\"}\\n{\"source\": \"barbecue\"}\\n{\"source\": \"barrel\"}\\n{\"source\": \"bathtub\"}\\n{\"source\": \"bench\"}\\n{\"source\": \"bricks\"}\\n{\"source\": \"bridge\"}\\n{\"source\": \"cannon\"}\\n{\"source\": \"carousel\"}\\n{\"source\": \"castle\"}\\n{\"source\": \"chimney\"}\\n{\"source\": \"church\"}\\n{\"source\": \"city\"}\\n{\"source\": \"closet\"}\\n{\"source\": \"couch\"}\\n{\"source\": \"cross\"}\\n{\"source\": \"curtains\"}\\n{\"source\": \"door\"}\\n{\"source\": \"fence\"}\\n{\"source\": \"firehydrant\"}\\n{\"source\": \"fishtank\"}\\n{\"source\": \"floor\"}\\n{\"source\": \"fountain\"}\\n{\"source\": \"grave\"}\\n{\"source\": \"hammock\"}\\n{\"source\": \"harp\"}\\n{\"source\": \"house\"}\\n{\"source\": \"ladder\"}\\n{\"source\": \"lawnmower\"}\\n{\"source\": \"mailbox\"}\\n{\"source\": \"mirror\"}\\n{\"source\": \"piano\"}\\n{\"source\": \"pillar\"}\\n{\"source\": \"pool\"}\\n{\"source\": \"pyramid\"}\\n{\"source\": \"railroadtracks\"}\\n{\"source\": \"recordplayer\"}\\n{\"source\": \"refrigerator\"}\\n{\"source\": \"road\"}\\n{\"source\": \"roof\"}\\n{\"source\": \"rug\"}\\n{\"source\": \"safe\"}\\n{\"source\": \"shower\"}\\n{\"source\": \"sink\"}\\n{\"source\": \"stairs\"}\\n{\"source\": \"statue\"}\\n{\"source\": \"stool\"}\\n{\"source\": \"stove\"}\\n{\"source\": \"tape recorder\"}\\n{\"source\": \"teepee\"}\\n{\"source\": \"tent\"}\\n{\"source\": \"toaster\"}\\n{\"source\": \"toilet\"}\\n{\"source\": \"trashcan\"}\\n{\"source\": \"tv\"}\\n{\"source\": \"typewriter\"}\\n{\"source\": \"vacuum\"}\\n{\"source\": \"washingmachine\"}\\n{\"source\": \"well\"}\\n{\"source\": \"windmill\"}\\n{\"source\": \"window\"}\\n{\"source\": \"baby\"}\\n{\"source\": \"boy\"}\\n{\"source\": \"clown\"}\\n{\"source\": \"cowboy\"}\\n{\"source\": \"dentist\"}\\n{\"source\": \"doctor\"}\\n{\"source\": \"eskimo\"}\\n{\"source\": \"fireman\"}\\n{\"source\": \"girl\"}\\n{\"source\": \"man\"}\\n{\"source\": \"nurse\"}\\n{\"source\": \"pirate\"}\\n{\"source\": \"policeman\"}\\n{\"source\": \"priest\"}\\n{\"source\": \"queen\"}\\n{\"source\": \"robot\"}\\n{\"source\": \"sailor\"}\\n{\"source\": \"snowman\"}\\n{\"source\": \"soldier\"}\\n{\"source\": \"waiter\"}\\n{\"source\": \"woman\"}\\n{\"source\": \"accordion\"}\\n{\"source\": \"anvil\"}\\n{\"source\": \"arrow\"}\\n{\"source\": \"ashtray\"}\\n{\"source\": \"bag\"}\\n{\"source\": \"ball\"}\\n{\"source\": \"balloon\"}\\n{\"source\": \"banjo\"}\\n{\"source\": \"basket\"}\\n{\"source\": \"binoculars\"}\\n{\"source\": \"block\"}\\n{\"source\": \"bomb\"}\\n{\"source\": \"book\"}\\n{\"source\": \"bottle\"}\\n{\"source\": \"bow\"}\\n{\"source\": \"bowl\"}\\n{\"source\": \"box\"}\\n{\"source\": \"broom\"}\\n{\"source\": \"brush\"}\\n{\"source\": \"bucket\"}\\n{\"source\": \"camera\"}\\n{\"source\": \"can\"}\\n{\"source\": \"candle\"}\\n{\"source\": \"canopener\"}\\n{\"source\": \"chain\"}\\n{\"source\": \"cigarette\"}\\n{\"source\": \"clamp\"}\\n{\"source\": \"clock\"}\\n{\"source\": \"clothespin\"}\\n{\"source\": \"comb\"}\\n{\"source\": \"cork\"}\\n{\"source\": \"corkscrew\"}\\n{\"source\": \"cup\"}\\n{\"source\": \"dime\"}\\n{\"source\": \"doll\"}\\n{\"source\": \"drill\"}\\n{\"source\": \"drum\"}\\n{\"source\": \"dustpan\"}\\n{\"source\": \"envelope\"}\\n{\"source\": \"fan\"}\\n{\"source\": \"faucet\"}\\n{\"source\": \"fishingpole\"}\\n{\"source\": \"flag\"}\\n{\"source\": \"flashlight\"}\\n{\"source\": \"flute\"}\\n{\"source\": \"football\"}\\n{\"source\": \"fork\"}\\n{\"source\": \"funnel\"}\\n{\"source\": \"glass\"}\\n{\"source\": \"glasses\"}\\n{\"source\": \"globe\"}\\n{\"source\": \"guitar\"}\\n{\"source\": \"gun\"}\\n{\"source\": \"hammer\"}\\n{\"source\": \"hanger\"}\\n{\"source\": \"hinge\"}\\n{\"source\": \"hoe\"}\\n{\"source\": \"hook\"}\\n{\"source\": \"hose\"}\\n{\"source\": \"iron\"}\\n{\"source\": \"jack\"}\\n{\"source\": \"jar\"}\\n{\"source\": \"jumprope\"}\\n{\"source\": \"key\"}\\n{\"source\": \"kite\"}\\n{\"source\": \"knife\"}\\n{\"source\": \"knot\"}\\n{\"source\": \"ladle\"}\\n{\"source\": \"letter\"}\\n{\"source\": \"lightbulb\"}\\n{\"source\": \"lightswitch\"}\\n{\"source\": \"lipstick\"}\\n{\"source\": \"lock\"}\\n{\"source\": \"magnet\"}\\n{\"source\": \"map\"}\\n{\"source\": \"match\"}\\n{\"source\": \"microphone\"}\\n{\"source\": \"microscope\"}\\n{\"source\": \"mixer\"}\\n{\"source\": \"mop\"}\\n{\"source\": \"music\"}\\n{\"source\": \"nail\"}\\n{\"source\": \"needle\"}\\n{\"source\": \"net\"}\\n{\"source\": \"paint\"}\\n{\"source\": \"paintbrush\"}\\n{\"source\": \"pan\"}\\n{\"source\": \"paper\"}\\n{\"source\": \"paperclip\"}\\n{\"source\": \"pen\"}\\n{\"source\": \"pencil\"}\\n{\"source\": \"pencilsharpener\"}\\n{\"source\": \"picture\"}\\n{\"source\": \"piggybank\"}\\n{\"source\": \"pillow\"}\\n{\"source\": \"pipe\"}\\n{\"source\": \"pitcher\"}\\n{\"source\": \"pitchfork\"}\\n{\"source\": \"plate\"}\\n{\"source\": \"pliers\"}\\n{\"source\": \"plug\"}\\n{\"source\": \"pot\"}\\n{\"source\": \"present\"}\\n{\"source\": \"puzzle\"}\\n{\"source\": \"radio\"}\\n{\"source\": \"rake\"}\\n{\"source\": \"razor\"}\\n{\"source\": \"rollingpin\"}\\n{\"source\": \"rope\"}\\n{\"source\": \"ruler\"}\\n{\"source\": \"safetypin\"}\\n{\"source\": \"saw\"}\\n{\"source\": \"saxophone\"}\\n{\"source\": \"scale\"}\\n{\"source\": \"scissors\"}\\n{\"source\": \"screw\"}\\n{\"source\": \"screwdriver\"}\\n{\"source\": \"shovel\"}\\n{\"source\": \"slingshot\"}\\n{\"source\": \"spatula\"}\\n{\"source\": \"spoon\"}\\n{\"source\": \"stethoscope\"}\\n{\"source\": \"suitcase\"}\\n{\"source\": \"sword\"}\\n{\"source\": \"tape\"}\\n{\"source\": \"teapot\"}\\n{\"source\": \"telephone\"}\\n{\"source\": \"telescope\"}\\n{\"source\": \"tennisracket\"}\\n{\"source\": \"thermos\"}\\n{\"source\": \"thimble\"}\\n{\"source\": \"toothbrush\"}\\n{\"source\": \"top\"}\\n{\"source\": \"tripod\"}\\n{\"source\": \"trumpet\"}\\n{\"source\": \"tweezers\"}\\n{\"source\": \"umbrella\"}\\n{\"source\": \"vase\"}\\n{\"source\": \"violin\"}\\n{\"source\": \"wallet\"}\\n{\"source\": \"wateringcan\"}\\n{\"source\": \"whip\"}\\n{\"source\": \"whistle\"}\\n{\"source\": \"wrench\"}\\n{\"source\": \"yoyo\"}\\n{\"source\": \"buggy\"}\\n{\"source\": \"catamaran\"}\\n{\"source\": \"escalator\"}\\n{\"source\": \"feet\"}\\n{\"source\": \"ferry\"}\\n{\"source\": \"golf cart\"}\\n{\"source\": \"hang glider\"}\\n{\"source\": \"hot air balloon\"}\\n{\"source\": \"jet\"}\\n{\"source\": \"kayak\"}\\n{\"source\": \"moped\"}\\n{\"source\": \"moving walkway\"}\\n{\"source\": \"raft\"}\\n{\"source\": \"rickshaw\"}\\n{\"source\": \"semi/tractor-trailer\"}\\n{\"source\": \"ship\"}\\n{\"source\": \"snow mobile\"}\\n{\"source\": \"stilts\"}\\n{\"source\": \"street car\"}\\n{\"source\": \"subway\"}\\n{\"source\": \"taxi\"}\\n{\"source\": \"tricycle\"}\\n{\"source\": \"trolley\"}\\n{\"source\": \"van\"}\\n'"
      ]
     },
     "execution_count": 15,
     "metadata": {},
     "output_type": "execute_result"
    }
   ],
   "source": []
  },
  {
   "cell_type": "code",
   "execution_count": null,
   "metadata": {},
   "outputs": [],
   "source": []
  }
 ],
 "metadata": {
  "kernelspec": {
   "display_name": "Python 3",
   "language": "python",
   "name": "python3"
  },
  "language_info": {
   "codemirror_mode": {
    "name": "ipython",
    "version": 3
   },
   "file_extension": ".py",
   "mimetype": "text/x-python",
   "name": "python",
   "nbconvert_exporter": "python",
   "pygments_lexer": "ipython3",
   "version": "3.6.5"
  }
 },
 "nbformat": 4,
 "nbformat_minor": 4
}
