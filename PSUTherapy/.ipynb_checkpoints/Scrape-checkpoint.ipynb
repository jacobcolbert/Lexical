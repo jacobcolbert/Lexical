{
 "cells": [
  {
   "cell_type": "code",
   "execution_count": 1,
   "metadata": {},
   "outputs": [],
   "source": [
    "import requests\n",
    "import pickle"
   ]
  },
  {
   "cell_type": "code",
   "execution_count": 2,
   "metadata": {},
   "outputs": [],
   "source": [
    "def get_list(category):\n",
    "    return requests.get(\"http://bilingualnamingtherapy.psu.edu:9000/BilingualNamingTherapy/WordSelect?lang=English&cat=\"+category).json()"
   ]
  },
  {
   "cell_type": "code",
   "execution_count": 3,
   "metadata": {},
   "outputs": [],
   "source": [
    "def get_features(list):\n",
    "    return requests.post(\"http://bilingualnamingtherapy.psu.edu:9000/BilingualNamingTherapy/TestTaker\",json={'Words':list,'language':'English'}).json()"
   ]
  },
  {
   "cell_type": "code",
   "execution_count": 4,
   "metadata": {},
   "outputs": [],
   "source": [
    "categories=['Animals','Body Parts','Clothing','Foods','Fruit','Furniture','Large Artifacts','People','Small Artifacts','Transportation']"
   ]
  },
  {
   "cell_type": "code",
   "execution_count": 5,
   "metadata": {},
   "outputs": [],
   "source": [
    "words={category:get_list(category) for category in categories}\n",
    "features={category:get_features([words[category]]) for category in categories}"
   ]
  },
  {
   "cell_type": "code",
   "execution_count": 32,
   "metadata": {},
   "outputs": [
    {
     "name": "stdout",
     "output_type": "stream",
     "text": [
      "Animals: 64\n",
      "Body Parts: 26\n",
      "Clothing: 28\n",
      "Foods: 43\n",
      "Fruit: 31\n",
      "Furniture: 37\n",
      "Large Artifacts: 62\n",
      "People: 21\n",
      "Small Artifacts: 145\n",
      "Transportation: 24\n"
     ]
    }
   ],
   "source": [
    "for key in words.keys():\n",
    "    print('{cat}: {length}'.format(cat=key,length=len(words[key])))"
   ]
  },
  {
   "cell_type": "code",
   "execution_count": 33,
   "metadata": {},
   "outputs": [],
   "source": [
    "pickle.dump(words,open('words.p','wb'))\n",
    "pickle.dump(features,open('features.p','wb'))"
   ]
  },
  {
   "cell_type": "code",
   "execution_count": 14,
   "metadata": {},
   "outputs": [],
   "source": [
    "res=\"\"\n",
    "for word in words['Furniture']:\n",
    "    res+='{{\"source\": \"{word}\"}}\\n'.format(word=word)"
   ]
  },
  {
   "cell_type": "code",
   "execution_count": 16,
   "metadata": {},
   "outputs": [],
   "source": [
    "with open('Furniture.json','w') as fp:\n",
    "    fp.write(res)"
   ]
  },
  {
   "cell_type": "code",
   "execution_count": null,
   "metadata": {},
   "outputs": [],
   "source": []
  }
 ],
 "metadata": {
  "kernelspec": {
   "display_name": "Python 3",
   "language": "python",
   "name": "python3"
  },
  "language_info": {
   "codemirror_mode": {
    "name": "ipython",
    "version": 3
   },
   "file_extension": ".py",
   "mimetype": "text/x-python",
   "name": "python",
   "nbconvert_exporter": "python",
   "pygments_lexer": "ipython3",
   "version": "3.6.5"
  }
 },
 "nbformat": 4,
 "nbformat_minor": 4
}
