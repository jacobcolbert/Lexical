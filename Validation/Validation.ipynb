{
 "cells": [
  {
   "cell_type": "code",
   "execution_count": 1,
   "metadata": {},
   "outputs": [],
   "source": [
    "import json\n",
    "import spacy"
   ]
  },
  {
   "cell_type": "code",
   "execution_count": 2,
   "metadata": {},
   "outputs": [],
   "source": [
    "with open(\"output.manifest\") as fp:\n",
    "    objects=[json.loads(object) for object in fp]"
   ]
  },
  {
   "cell_type": "code",
   "execution_count": 6,
   "metadata": {},
   "outputs": [
    {
     "name": "stdout",
     "output_type": "stream",
     "text": [
      "{\"group\":\"The White Willow Orthopedic Memory Foam Cooling Gel Standard Size Neck & Back Support Sleeping Bed Pillow With Removable Zipper Cover. ... Trance Home Linen 100% Cotton Pillow Covers\"}\n",
      "{\"group\":\"ammocks. Inditradition Cotton Striped Foldable Hammock (for Single Person) / Hanging Bed for Camping & Outdoor Activities (197 cm x 80 cm) - Multicolor.\"}\n",
      "{\"group\":\"Tapestry is a form of textile art, traditionally woven by hand on a loom. Tapestry is weft-faced weaving, in which all the warp threads are hidden in the completed work, unlike cloth weaving where both the warp and the weft threads may be visible.\"}\n",
      "{\"group\":\"The glass bottle represented an important development in the history of wine, because, when combined with a high-quality stopper such as a cork, it allowed long-term aging of wine. Glass has all the qualities required for long-term storage. It eventually gave rise to \\\"château bottling\\\", the practice where an estate's wine is put in a bottle at the source, rather than by a merchant. Prior to this, wine used to be sold by the barrel (and before that, the amphora) and put into bottles only at the merchant's shop, if at all. This left large and often abused opportunities for fraud and adulteration, as consumers had to trust the merchant as to the contents. It is thought that most wine consumed outside of wine-producing regions had been tampered with in some way. Also, not all merchants were careful to avoid oxidation or contamination while bottling, leading to large bottle variation. Particularly in the case of port, certain conscientious merchants' bottling of old ports fetch higher prices even today. To avoid these problems, most fine wine is bottled at the place of production (including all port, since 1974).\"}\n",
      "{\"group\":\"Glass is a non-crystalline, amorphous solid that is most often transparent and has widespread practical, technological, and decorative uses in, for example, ... ‎Glass (disambiguation\"}\n",
      "{\"group\":\"Is a deciduous tree native to the region of Northwest China between the Tarim Basin and the north slopes of the Kunlun Mountains, where it was first domesticated and cultivated. It bears an edible juicy fruit\"}\n",
      "{\"group\":\"A floor is the bottom surface of a room or vehicle. Floors vary from simple dirt in a cave to many-layered surfaces made with modern technology. Floors may be stone, wood, bamboo, metal or any other material that can support the expected load\"}\n",
      "{\"group\":\"A roof is the top covering of a building, including all materials and constructions necessary to support it on the walls of the building or on uprights; it provides protection against rain, snow, sunlight, extremes of temperature, and wind. A roof is part of the building envelope.\"}\n",
      "{\"group\":\"Block definition is - a compact usually solid piece of substantial material especially when worked or altered to serve a particular purpose\"}\n",
      "{\"group\":\"Grasshoppers are a group of insects belonging to the suborder Caelifera. They are among what is probably the most ancient living group of chewing herbivorous insects, dating back to the early Triassic around 250 million years ago\"}\n",
      "{\"group\":\"BookMyShow offers showtimes, movie tickets, reviews, trailers, concert tickets and events near you . Also features promotional offers, coupons and mobile app.\"}\n",
      "{\"group\":\"Three years ago, California passed one of the strongest laws in the country to outlaw surprise medical billing. That legislation made sure that when patients went to a hospital covered by their insurance, doctors couldn’t later ambush them with unexpected bills.\"}\n",
      "{\"group\":\"A robot is a machine—especially one programmable by a computer— capable of carrying out a complex series of actions automatically. Robots can be guided ..\"}\n",
      "{\"group\":\"verb. brushed; brushing. Kids Definition of brush (Entry 2 of 4) 1 : to scrub or smooth with a brush Brush your hair. 2 : to remove with or as if with a brush I brushed up the dirt.\"}\n",
      "{\"group\":\"The pomegranate (Punica granatum) is a fruit-bearing deciduous shrub in the family Lythraceae, subfamily Punicoideae, that grows between 5 and 10 m (16 and 33 ft) tall. The fruit is typically in season in the Northern Hemisphere\"}\n",
      "{\"group\":\"A thimble is a small hard pitted cup worn for protection on the finger that pushes the needle in sewing. Usually, thimbles with a closed top are used by dressmakers but special thimbles with an opening at the end are used by tailors as this allows them to manipulate the cloth more easily\"}\n",
      "{\"group\":\"A knife is a tool with a cutting edge or blade attached to a handle. Mankind's first tool, knives were used at least two-and-a-half million years ago, as evidenced ..\"}\n",
      "{\"group\":\"Crabs are decapod crustaceans of the infraorder Brachyura, which typically have a very short projecting \\\"tail\\\", usually entirely hidden under the thorax\"}\n",
      "{\"group\":\"Deer are the hoofed ruminant mammals forming the family Cervidae. The two main groups of deer are the Cervinae, including the muntjac, the elk, the fallow deer, and the chital; and the Capreolinae, including the reindeer, the roe deer, and the moose.\"}\n",
      "{\"group\":\"Butter is a dairy product with high butterfat content which is solid when chilled and at room temperature in some regions, and liquid when warmed. It is made by churning fresh or fermented cream or milk to separate the butterfat from the buttermilk.\"}\n",
      "{\"group\":\"A veteran warrior, Priest, breaks his sacred vows to hunt down the blood-thirsty vampires who kidnapped his niece. His niece's boyfriend, Hick, and Priestess, a former warrior, join him in the quest.\"}\n",
      "{\"group\":\"Jet Airways Ltd. was an Indian international airline based in Mumbai, India which, on 17 April 2019, suspended all flight operations. From the third quarter of 2010 onwards, Jet Airways was the largest commercial passenger airline in India with a passenger market share of 22.6%\"}\n",
      "{\"group\":\"A pencil sharpener is a tool for sharpening a pencil's writing point by shaving away its worn surface. Pencil sharpeners may be operated manually or by an electric motor. \"}\n",
      "{\"group\":\"The shoulder joint is formed where the humerus (upper arm bone) fits into the scapula (shoulder blade), like a ball and socket. ... The rotator cuff is a collection of muscles and tendons that surround the shoulder,\"}\n",
      "{\"group\":\"Mangoes are juicy stone fruit (drupe) from numerous species of tropical trees belonging to the flowering plant genus Mangifera, cultivated mostly for their edible \"}\n",
      "{\"group\":\"A rhinoceros (/raɪˈnɒsərəs/, from Greek rhinokerōs, meaning 'nose-horned', from rhis, meaning 'nose', and keras, meaning 'horn'), commonly abbreviated to rhino, is one of any five extant species of odd-toed ungulates in the family Rhinocerotidae, \"}\n",
      "{\"group\":\"Hang gliding is an air sport or recreational activity in which a pilot flies a light, non-motorised foot-launched heavier-than-air aircraft called a hang glider\"}\n",
      "{\"group\":\"A bathtub, bath, or tub (informal) is a large or small container for holding water in which a person or animal may bathe. Most modern bathtubs are made of ... ‎Bathtub refinishing · ‎Bathtub hoax · ‎Accessible bathtub \"}\n",
      "{\"group\":\"There's nothing like kicking back in a comfy chair after a hard day. But finding a recliner that fits your body and budget (prices range from $250 to $5,000) isn't as relaxing.\"}\n",
      "{\"group\":\"The National Eligibility Test, also known as UGC NET or NTA-UGC-NET, is the test for determining the eligibility for the post of Assistant Professor or Junior Research Fellowship or both in Indian universities and government college\"}\n",
      "{\"group\":\"Chest is a peer-reviewed medical journal covering chest diseases and related issues, including pulmonology, cardiology, thoracic surgery, transplantation, breathing, airway diseases, and emergency medicine.\"}\n",
      "{\"group\":\"A lawn mower (also named as mower, grass cutter or lawnmower) is a machine utilizing one or more revolving blades to cut a grass surface to an even height.\"}\n",
      "{\"group\":\"Clementine is a multiplatform music player. It is inspired by Amarok 1.4, focusing on a fast and easy-to-use interface for searching and playing your music.\"}\n",
      "{\"group\":\"A device designed to be placed in the mouth and blown, or driven by steam or some other mechanism, to make a whistling sound. An act of whistling\"}\n",
      "{\"group\":\"A slip nightgown may be used as a nightgown or as a full slip. Nightgowns may be worn with a matching outer garment, a robe, sheer chiffon peignoir or dressing gown, to make them appropriate for receiving guests.\"}\n",
      "{\"group\":\"The pea is most commonly the small spherical seed or the seed-pod of the pod fruit Pisum sativum. Each pod contains several peas, which can be green or yellow.\"}\n",
      "{\"group\":\"housands of Chilean children were stolen from their mothers during the military rule of Gen Augusto Pinochet and sent abroad for adoption. \"}\n",
      "{\"group\":\"A shovel is a tool for digging, lifting, and moving bulk materials, such as soil, coal, gravel, snow, sand, or ore. Most shovels are hand tools consisting of a broad blade fixed to a medium-length handle. Shovel blades are usually made of sheet steel or hard plastics and are very strong\"}\n",
      "{\"group\":\"It’s in under your nose and it helps you and helps you kiss people and eat food and they get dry and cracked if you’re in the soon and if you understand too much.\"}\n",
      "{\"group\":\"Khaki is a color, a light shade of brown with a yellowish tinge. Khaki is an equal mix of sage and buff so it is considered a quinary color.\"}\n",
      "{\"group\":\"Pantyhose, called sheer tights in the United Kingdom and a few other countries, are close-fitting legwear covering the wearer's body from the waist to the toes.\"}\n",
      "{\"group\":\"an animal from the pachyderm family, the largest land animal on Earth.  It's most noticeable feature is it's trunk, which is an extended nose, and two tusks\"}\n",
      "{\"group\":\"a pair of soft fabric coverings, connected by a band across the top of the head, that are worn over the ears to protect them from cold or noise.\"}\n"
     ]
    },
    {
     "data": {
      "text/plain": [
       "43"
      ]
     },
     "execution_count": 6,
     "metadata": {},
     "output_type": "execute_result"
    }
   ],
   "source": [
    "count=0\n",
    "for object in objects:\n",
    "    for annotation in object['circumlocutions-all']['annotationsFromAllWorkers']:\n",
    "            if len(annotation['annotationData']['content'])>150:\n",
    "                count = count+1\n",
    "                print(annotation['annotationData']['content'])\n",
    "                del(annotation)\n",
    "count"
   ]
  },
  {
   "cell_type": "code",
   "execution_count": 7,
   "metadata": {},
   "outputs": [
    {
     "data": {
      "text/plain": [
       "{'source': 'carrot',\n",
       " 'circumlocutions-all': {'annotationsFromAllWorkers': [{'workerId': 'public.us-east-1.AWNR2FOWI73GL',\n",
       "    'annotationData': {'content': '{\"group\":\"an orange vegetable\"}'}},\n",
       "   {'workerId': 'public.us-east-1.A2B35SV2T2S588',\n",
       "    'annotationData': {'content': '{}'}},\n",
       "   {'workerId': 'public.us-east-1.A1NMKXK04PZ6KK',\n",
       "    'annotationData': {'content': '{\"group\":\"A orange vegetable that bus bunny eats\"}'}}]},\n",
       " 'circumlocutions-all-metadata': {'type': 'groundtruth/custom',\n",
       "  'job-name': 'circumlocutions-all',\n",
       "  'human-annotated': 'yes',\n",
       "  'creation-date': '2019-09-27T02:48:46+0000'}}"
      ]
     },
     "execution_count": 7,
     "metadata": {},
     "output_type": "execute_result"
    }
   ],
   "source": [
    "objects[0]"
   ]
  },
  {
   "cell_type": "code",
   "execution_count": 4,
   "metadata": {},
   "outputs": [],
   "source": [
    "nlp = spacy.load('/home/jcolbert/anaconda3/envs/lexical/lib/python3.6/site-packages/en_vectors_web_lg/en_vectors_web_lg-2.0.0')"
   ]
  },
  {
   "cell_type": "code",
   "execution_count": null,
   "metadata": {},
   "outputs": [],
   "source": []
  }
 ],
 "metadata": {
  "kernelspec": {
   "display_name": "Python 3",
   "language": "python",
   "name": "python3"
  },
  "language_info": {
   "codemirror_mode": {
    "name": "ipython",
    "version": 3
   },
   "file_extension": ".py",
   "mimetype": "text/x-python",
   "name": "python",
   "nbconvert_exporter": "python",
   "pygments_lexer": "ipython3",
   "version": "3.6.5"
  }
 },
 "nbformat": 4,
 "nbformat_minor": 4
}
