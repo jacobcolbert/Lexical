{
 "cells": [
  {
   "cell_type": "code",
   "execution_count": 2,
   "metadata": {},
   "outputs": [],
   "source": [
    "import requests\n",
    "from bs4 import BeautifulSoup"
   ]
  },
  {
   "cell_type": "code",
   "execution_count": 3,
   "metadata": {},
   "outputs": [],
   "source": [
    "resp=requests.get(\"https://www.google.com/search?q=hopping+animal&oq=big+scary+animal\")"
   ]
  },
  {
   "cell_type": "code",
   "execution_count": 4,
   "metadata": {},
   "outputs": [],
   "source": [
    "soup=BeautifulSoup(resp.content)"
   ]
  },
  {
   "cell_type": "code",
   "execution_count": 5,
   "metadata": {},
   "outputs": [
    {
     "name": "stdout",
     "output_type": "stream",
     "text": [
      "hopping animal - Google SearchGoogleGoogle×Please click here if you are not redirected within a few seconds.\n",
      "AllImagesShoppingVideos Maps News Books Search tools\n",
      "Any timeAny timePast hourPast 24 hoursPast weekPast monthPast yearAll resultsAll resultsVerbatimanimalsJumpingRed kangarooKangaroo ratGrasshopperTree frogJerboaFroghopperBharalJumping spiderMuridsHopping mouseRockhopper penguinTop 10 Highest Jumping Animals | OneKindPlanet Animal Educationhttps://onekindplanet.org › top-10 › top-10-worlds-highest-jumping-animalsHere's a selection of 10 of the world's best jumpers. Hare. The Hare is one of fastest animals and has a great ability to jump. Red Kangaroo. Red Kangaroos are the fastest jumpers among all mammals. Bharal. Klipspringer. Grasshopper. Kangaroo Rat. Froghopper. Jumping Spider.\n",
      "Brown Hare · Kangaroo · FleaImagesView allView all16 Super Jumping Animals - INVORMAinvorma.com › FaunaJun 28, 2015 · Extremely elastic muscles, spring-like leg mechanisms and sticky feet are among the biological advantages that enable these 12 ...People also search forSwim animals NameElephantTigerSquidJellyfishMore resultsThe Kangaroo is the World's Largest Hopping Animal | National ...https://www.youtube.com › watchSep 25, 2018 · The kangaroo is one of Australia's most recognizable marsupials and is the only large animal ...Duration: 3:13\n",
      "Posted: Sep 25, 2018Hopping Animals - Alamyhttps://www.alamy.com › stock-photo › hopping-animalsFind the perfect hopping animals stock photo. Huge collection, amazing choice, 100+ million high quality, affordable RF and RM images. No need to register, ...Animals That Hop - Small Animal Planethttps://www.smallanimalplanet.com › animals-that-hopJun 21, 2016 · Animals that Hop Include:\n",
      "Kangaroos, wallabies, and relatives (family Macropodidae). Springhares (also known as springhaas, a large African rodent in the family Pedetidae). Frogs – can jump 150 times their own body length.What are some animals that hop? - Quorahttps://www.quora.com › What-are-some-animals-that-hopLast Updated Apr 6, 2019 Toads, rabbits, certain bird species, kangaroos and Wallabies. (The question said some not all. The list could ...What are two animals that hop? - Quorahttps://www.quora.com › What-are-two-animals-that-hopThere is a deer or antelope-looking mammal called a Klipsringer in the southern part of Africa that can jump 10 times its height! The baby ...Animals That Can Hop/Jump Flashcards | Quizlethttps://quizlet.com › animals-that-can-hopjump-flash-cardsStart studying Animals That Can Hop/Jump. Learn vocabulary, terms, and more with flashcards, games, and other study tools.13 Jumping Animals, Just in Time for Leap Year - National Geographichttps://www.nationalgeographic.com › news › 2016/02 › 160228-pictures-l...Feb 28, 2016 · Goats, squirrels, and frogs fly through the air in these adorable pictures.Related searchesanimals that jump or hop>hop animals name list>highest jumping cat>bharal jumping>wings animals>hopping animals meaning>how far can animals jump>kangaroo>\n",
      "Next >\n",
      "Sign inSettingsPrivacyTerms\n"
     ]
    }
   ],
   "source": [
    "for script in soup([\"script\", \"style\"]):\n",
    "    script.decompose()    # rip it out\n",
    "\n",
    "# get text\n",
    "text = soup.get_text()\n",
    "\n",
    "# break into lines and remove leading and trailing space on each\n",
    "lines = (line.strip() for line in text.splitlines())\n",
    "# break multi-headlines into a line each\n",
    "chunks = (phrase.strip() for line in lines for phrase in line.split(\"  \"))\n",
    "# drop blank lines\n",
    "text = '\\n'.join(chunk for chunk in chunks if chunk)\n",
    "\n",
    "print(text)"
   ]
  },
  {
   "cell_type": "code",
   "execution_count": null,
   "metadata": {},
   "outputs": [],
   "source": []
  }
 ],
 "metadata": {
  "kernelspec": {
   "display_name": "Python 3",
   "language": "python",
   "name": "python3"
  },
  "language_info": {
   "codemirror_mode": {
    "name": "ipython",
    "version": 3
   },
   "file_extension": ".py",
   "mimetype": "text/x-python",
   "name": "python",
   "nbconvert_exporter": "python",
   "pygments_lexer": "ipython3",
   "version": "3.6.5"
  }
 },
 "nbformat": 4,
 "nbformat_minor": 4
}
